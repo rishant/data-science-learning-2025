{
 "cells": [
  {
   "cell_type": "markdown",
   "id": "9312a941",
   "metadata": {},
   "source": [
    "# 🐼 Pandas Complete Learning Roadmap\n",
    "\n",
    "This notebook covers all major topics of Pandas for beginners to advanced."
   ]
  },
  {
   "cell_type": "markdown",
   "id": "bbbfd026",
   "metadata": {},
   "source": [
    "## 1. Pandas Basics (Foundation)\n",
    "\n",
    "1. Setup & Basics\n",
    "\n",
    "✅ Install Pandas (pip install pandas)\n",
    "\n",
    "✅ Import Pandas (import pandas as pd)\n",
    "\n",
    "✅ Understand Series vs DataFrame\n",
    "\n",
    "✅ Create simple Series & DataFrames from:\n",
    "\n",
    "Python lists\n",
    "\n",
    "Dictionaries\n",
    "\n",
    "NumPy arrays"
   ]
  },
  {
   "cell_type": "code",
   "execution_count": null,
   "id": "5b744686",
   "metadata": {},
   "outputs": [],
   "source": [
    "\n",
    "import pandas as pd\n",
    "\n",
    "# Creating Series\n",
    "s = pd.Series([10, 20, 30], name=\"Numbers\")\n",
    "print(s)\n",
    "\n",
    "print(\"\\n\")\n",
    "s = pd.Series([10, 20, 30], index=['a', 'b', 'c'], name=\"Numbers with Index\")\n",
    "print(s)\n",
    "print(\"\\n\")\n",
    "\n",
    "# Creating DataFrame\n",
    "df = pd.DataFrame({\"Name\": [\"Alice\", \"Bob\"], \"Age\": [25, 30]})\n",
    "print(df)\n",
    "\n",
    "print(\"Shape:\", df.shape)\n",
    "print(\"Columns:\", df.columns)\n",
    "print(\"Index:\", df.index)\n",
    "print(\"Data types:\\n\", df.dtypes)\n"
   ]
  },
  {
   "cell_type": "markdown",
   "id": "4c2e0f58",
   "metadata": {},
   "source": [
    "## 2. Data Input/Output (I/O Operations)\n",
    "\n",
    "- Reading data:\n",
    "    - pd.read_csv(), read_excel(), read_json(), read_sql(), read_parquet()\n",
    "\n",
    "- Writing data:\n",
    "    - .to_csv(), .to_excel(), .to_json(), .to_sql()\n",
    "\n",
    "- Handling separators, encodings, headers, chunks"
   ]
  },
  {
   "cell_type": "code",
   "execution_count": null,
   "id": "32fcf707",
   "metadata": {},
   "outputs": [],
   "source": [
    "\n",
    "# Reading CSV (example requires data.csv in the same folder)\n",
    "# df = pd.read_csv(\"data.csv\")\n",
    "\n",
    "# Writing to CSV\n",
    "# df.to_csv(\"output.csv\", index=False)\n"
   ]
  },
  {
   "cell_type": "markdown",
   "id": "d9354d04",
   "metadata": {},
   "source": [
    "## 3. Data Exploration\n",
    "\n",
    "- .head(), .tail(), .info(), .describe()\n",
    "- Shape, columns, index\n",
    "- Checking datatypes"
   ]
  },
  {
   "cell_type": "code",
   "execution_count": null,
   "id": "fc971640",
   "metadata": {},
   "outputs": [],
   "source": [
    "\n",
    "print(df.head())\n",
    "print(df.tail())\n",
    "print(df.info())\n",
    "print(df.describe())\n"
   ]
  },
  {
   "cell_type": "markdown",
   "id": "f30d5089",
   "metadata": {},
   "source": [
    "## 4. Data Selection & Indexing\n",
    "\n",
    "- Selecting columns (df['col'], df[['col1','col2']])\n",
    "- Selecting rows with .loc[] & .iloc[]\n",
    "- Boolean indexing & filtering"
   ]
  },
  {
   "cell_type": "code",
   "execution_count": null,
   "id": "db23292c",
   "metadata": {},
   "outputs": [],
   "source": [
    "\n",
    "# Selecting columns\n",
    "print(df[\"Name\"])\n",
    "print(df[[\"Name\", \"Age\"]])\n",
    "\n",
    "# Selecting rows by label\n",
    "print(df.loc[0])\n",
    "\n",
    "# Selecting rows by index\n",
    "print(df.iloc[0])\n",
    "\n",
    "# Boolean indexing\n",
    "print(df.loc[df[\"Age\"] > 25])\n",
    "\n",
    "print(df.loc[df[\"Age\"] > 25, [\"Name\", \"Age\"]])\n"
   ]
  },
  {
   "cell_type": "markdown",
   "id": "df53aeef",
   "metadata": {},
   "source": [
    "## 5. Data Cleaning\n",
    "\n",
    "- Handling missing values (.isna(), .dropna(), .fillna())\n",
    "- Duplicates (.drop_duplicates())\n",
    "- Renaming columns\n",
    "- Changing datatypes (.astype())"
   ]
  },
  {
   "cell_type": "code",
   "execution_count": null,
   "id": "3133146c",
   "metadata": {},
   "outputs": [],
   "source": [
    "\n",
    "# Handling missing values\n",
    "df2 = pd.DataFrame({\"Name\": [\"Alice\", \"Bob\", None], \"Age\": [25, None, 22]})\n",
    "print(df2.isna())\n",
    "print(df2.fillna({\"Age\": df2[\"Age\"].mean()}))\n",
    "\n",
    "# Duplicates\n",
    "df3 = pd.DataFrame({\"A\": [1,1,2,2], \"B\": [3,3,4,4]})\n",
    "print(df3.drop_duplicates())\n"
   ]
  },
  {
   "cell_type": "markdown",
   "id": "0b32a04e",
   "metadata": {},
   "source": [
    "## 6. Data Transformation\n",
    "\n",
    "- Sorting (.sort_values(), .sort_index())\n",
    "- Adding/Updating columns\n",
    "- Applying functions (.apply(), .map(), .applymap())\n",
    "- String operations (.str.upper(), .str.contains())\n",
    "- Conditional Columns (np.where, pd.cut, pd.qcut)\n"
   ]
  },
  {
   "cell_type": "code",
   "execution_count": null,
   "id": "6c7a7695",
   "metadata": {},
   "outputs": [],
   "source": [
    "\n",
    "df[\"AgeGroup\"] = df[\"Age\"].apply(lambda x: \"Adult\" if x >= 18 else \"Child\")\n",
    "print(df)\n",
    "\n",
    "# Sorting\n",
    "print(df.sort_values(\"Age\", ascending=False))\n",
    "\n",
    "# String operations\n",
    "df[\"Name_upper\"] = df[\"Name\"].str.upper()\n",
    "print(df)\n"
   ]
  },
  {
   "cell_type": "markdown",
   "id": "e4b45608",
   "metadata": {},
   "source": [
    "## 7. Grouping & Aggregation\n",
    "\n",
    "- .groupby()\n",
    "- Aggregation: .mean(), .sum(), .count(), .min(), .max()\n",
    "- Multiple aggregations with .agg()\n",
    "- Pivot tables: pd.pivot_table()\n",
    "- Crosstab: pd.crosstab()"
   ]
  },
  {
   "cell_type": "code",
   "execution_count": null,
   "id": "0df5f55e",
   "metadata": {},
   "outputs": [],
   "source": [
    "\n",
    "df4 = pd.DataFrame({\n",
    "    \"Department\": [\"IT\", \"HR\", \"IT\", \"HR\"],\n",
    "    \"Salary\": [60000, 50000, 65000, 52000]\n",
    "})\n",
    "print(df4.groupby(\"Department\")[\"Salary\"].mean())\n",
    "\n",
    "print(df4.groupby(\"Department\").agg({\"Salary\": [\"mean\", \"max\"]}))\n"
   ]
  },
  {
   "cell_type": "markdown",
   "id": "13af0b15",
   "metadata": {},
   "source": [
    "## 8. Merging & Joining, Concatenation\n",
    "\n",
    "- pd.concat() (vertical/horizontal stacking datasets)\n",
    "- pd.merge() (SQL-like joins)\n",
    "    - inner, left, right, outer joins\n",
    "- Joining on keys"
   ]
  },
  {
   "cell_type": "code",
   "execution_count": null,
   "id": "57c6fdad",
   "metadata": {},
   "outputs": [],
   "source": [
    "\n",
    "df_left = pd.DataFrame({\"id\": [1,2], \"Name\": [\"Alice\", \"Bob\"]})\n",
    "df_right = pd.DataFrame({\"id\": [1,2], \"Score\": [90, 80]})\n",
    "print(pd.merge(df_left, df_right, on=\"id\", how=\"inner\"))\n"
   ]
  },
  {
   "cell_type": "markdown",
   "id": "18ed86c5",
   "metadata": {},
   "source": [
    "## 8.1 Indexing & MultiIndex\n",
    "\n",
    "- Setting index: .set_index()\n",
    "- Resetting index: .reset_index()\n",
    "- Multi-level (Hierarchical) Index\n",
    "- Index slicing with .xs()"
   ]
  },
  {
   "cell_type": "markdown",
   "id": "b533de65",
   "metadata": {},
   "source": [
    "## 9. Time Series & Dates\n",
    "\n",
    "- Converting to datetime: pd.to_datetime()\n",
    "- Extracting year, month, day\n",
    "- Filtering by date ranges\n",
    "- Resampling: .resample()\n",
    "- Rolling & expanding windows: .rolling().mean()"
   ]
  },
  {
   "cell_type": "code",
   "execution_count": null,
   "id": "e841b3e6",
   "metadata": {},
   "outputs": [],
   "source": [
    "\n",
    "df_dates = pd.DataFrame({\"Date\": pd.date_range(\"2025-01-01\", periods=5, freq=\"D\"), \"Value\": [1,2,3,4,5]})\n",
    "df_dates[\"Year\"] = df_dates[\"Date\"].dt.year\n",
    "print(df_dates)\n",
    "\n",
    "print(df_dates.set_index(\"Date\").resample(\"2D\").sum())\n"
   ]
  },
  {
   "cell_type": "markdown",
   "id": "fde9f276",
   "metadata": {},
   "source": [
    "## 10. Statistics & Math\n",
    "\n",
    "- Descriptive statistics: .mean(), .std(), .var(), .median()\n",
    "- Correlation & Covariance: .corr(), .cov()\n",
    "- Value counts: .value_counts()\n",
    "- Normalization & Scaling\n",
    "\n",
    ".sum(), .mean(), .median(), .mode(), .std(), .var(), .corr(), .cov(), .cumsum(), .cumprod()"
   ]
  },
  {
   "cell_type": "code",
   "execution_count": null,
   "id": "6721bad9",
   "metadata": {},
   "outputs": [],
   "source": [
    "\n",
    "print(df4[\"Salary\"].mean())\n",
    "print(df4[\"Salary\"].std())\n",
    "print(df4[\"Salary\"].value_counts())\n",
    "print(df4.corr())\n"
   ]
  },
  {
   "cell_type": "markdown",
   "id": "52517641",
   "metadata": {},
   "source": [
    "## 11. Reshaping & Pivoting\n",
    "\n",
    "- .melt() (wide → long)\n",
    "- .pivot() (long → wide)\n",
    "- .stack(), .unstack()\n",
    "- Wide vs long data transformations"
   ]
  },
  {
   "cell_type": "code",
   "execution_count": null,
   "id": "682d2258",
   "metadata": {},
   "outputs": [],
   "source": [
    "\n",
    "df5 = pd.DataFrame({\n",
    "    \"Name\": [\"Alice\",\"Bob\",\"Alice\",\"Bob\"],\n",
    "    \"Month\": [\"Jan\",\"Jan\",\"Feb\",\"Feb\"],\n",
    "    \"Sales\": [100,150,120,180]\n",
    "})\n",
    "\n",
    "print(df5.pivot(index=\"Name\", columns=\"Month\", values=\"Sales\"))\n",
    "print(pd.melt(df5, id_vars=[\"Name\"], value_vars=[\"Sales\"]))\n"
   ]
  },
  {
   "cell_type": "markdown",
   "id": "566ee5a5",
   "metadata": {},
   "source": [
    "## 12. Advanced Pandas\n",
    "\n",
    "- Categoricals (.astype(\"category\"))\n",
    "- Window Functions: .rolling(), .expanding(), .ewm()\n",
    "- .query() and .eval() for fast filtering\n",
    "- Sparse data handling\n",
    "- String extraction with regex\n",
    "- Exploding lists into rows (.explode())"
   ]
  },
  {
   "cell_type": "code",
   "execution_count": null,
   "id": "4bc535d2",
   "metadata": {},
   "outputs": [],
   "source": [
    "\n",
    "# Categoricals\n",
    "df6 = pd.DataFrame({\"Grade\": [\"A\",\"B\",\"A\",\"C\"]})\n",
    "df6[\"Grade\"] = df6[\"Grade\"].astype(\"category\")\n",
    "print(df6.dtypes)\n",
    "\n",
    "# Explode lists\n",
    "df7 = pd.DataFrame({\"Name\":[\"Alice\",\"Bob\"], \"Hobbies\":[[\"Reading\",\"Music\"],[\"Sports\"]]})\n",
    "print(df7.explode(\"Hobbies\"))\n"
   ]
  },
  {
   "cell_type": "markdown",
   "id": "6174ba61",
   "metadata": {},
   "source": [
    "## 13. Performance & Optimization\n",
    "\n",
    "Vectorization (avoid Python loops)\n",
    "\n",
    "Chunked file reading (chunksize)\n",
    "\n",
    "Memory optimization (downcasting types)\n",
    "\n",
    "Parallel computing with Dask\n",
    "\n",
    "Using numba for fast functions"
   ]
  },
  {
   "cell_type": "code",
   "execution_count": null,
   "id": "bcc0cc56",
   "metadata": {},
   "outputs": [],
   "source": [
    "\n",
    "big_df = pd.DataFrame({\"A\": range(1000000)})\n",
    "print(big_df.memory_usage(deep=True))\n",
    "\n",
    "# Downcasting to save memory\n",
    "big_df[\"A\"] = pd.to_numeric(big_df[\"A\"], downcast=\"integer\")\n",
    "print(big_df.memory_usage(deep=True))\n"
   ]
  },
  {
   "cell_type": "markdown",
   "id": "39268912",
   "metadata": {},
   "source": [
    "## 14. Visualization\n",
    "\n",
    "- Basic plotting with .plot()\n",
    "- Histograms, bar charts, line plots\n",
    "- Using Matplotlib & Seaborn with Pandas\n",
    "\n",
    "\n",
    ".plot(kind='line')\n",
    "\n",
    ".plot(kind='bar')\n",
    "\n",
    ".plot(kind='hist')\n",
    "\n",
    ".plot(kind='scatter', x=..., y=...)"
   ]
  },
  {
   "cell_type": "code",
   "execution_count": null,
   "id": "6fc8fbb7",
   "metadata": {},
   "outputs": [],
   "source": [
    "\n",
    "import matplotlib.pyplot as plt\n",
    "\n",
    "df4[\"Salary\"].plot(kind=\"bar\", title=\"Department Salary Comparison\")\n",
    "plt.show()\n",
    "\n",
    "df[\"Salary\"].plot(kind=\"hist\")"
   ]
  },
  {
   "cell_type": "markdown",
   "id": "a907bb87",
   "metadata": {},
   "source": [
    "## 15. Real-World Applications (Must-Have Skills)\n",
    "\n",
    "    ✅ Data Cleaning & Wrangling (missing values, duplicates, datatypes)\n",
    "    ✅ Exploratory Data Analysis (EDA) with Pandas\n",
    "    ✅ Joining & merging multiple datasets\n",
    "    ✅ Time series analysis for trends\n",
    "    ✅ Grouping & aggregation for reporting\n",
    "    ✅ Pivot tables for summary reports\n",
    "    ✅ Memory-efficient Pandas for large datasets\n",
    "    ✅ Exporting data for machine learning models"
   ]
  },
  {
   "cell_type": "markdown",
   "id": "2b85caf5",
   "metadata": {},
   "source": [
    "🎯 Must-Have Checklist (for every Pandas learner)\n",
    "\n",
    "- [ ] Understand Series vs DataFrame\n",
    "\n",
    "- [ ] Read/Write CSV & Excel\n",
    "\n",
    "- [ ] Indexing & Filtering (loc, iloc)\n",
    "\n",
    "- [ ] Handle Missing Values (fillna, dropna)\n",
    "\n",
    "- [ ] Handle Duplicates\n",
    "\n",
    "- [ ] Sorting & Ranking\n",
    "\n",
    "- [ ] GroupBy & Aggregation\n",
    "\n",
    "- [ ] Merge & Join datasets\n",
    "\n",
    "- [ ] Pivot tables & Crosstabs\n",
    "\n",
    "- [ ] Time Series basics (to_datetime, resample)\n",
    "\n",
    "- [ ] Data Visualization (plot())\n",
    "\n",
    "- [ ] Optimize memory for large datasets"
   ]
  },
  {
   "cell_type": "markdown",
   "id": "6a42aa3c",
   "metadata": {},
   "source": [
    "## 📌 Learning Path (How to Progress)\n",
    "\n",
    "- Week 1 → Basics + Data Exploration\n",
    "- Week 2 → Indexing, Selection, Cleaning\n",
    "- Week 3 → Transformation, Grouping, Aggregation\n",
    "- Week 4 → Merge/Join, Time Series, Visualization\n",
    "- Week 5+ → Advanced Pandas + Optimization + Practice on real datasets"
   ]
  }
 ],
 "metadata": {
  "kernelspec": {
   "display_name": "Python 3",
   "language": "python",
   "name": "python3"
  },
  "language_info": {
   "codemirror_mode": {
    "name": "ipython",
    "version": 3
   },
   "file_extension": ".py",
   "mimetype": "text/x-python",
   "name": "python",
   "nbconvert_exporter": "python",
   "pygments_lexer": "ipython3",
   "version": "3.12.2"
  }
 },
 "nbformat": 4,
 "nbformat_minor": 5
}
