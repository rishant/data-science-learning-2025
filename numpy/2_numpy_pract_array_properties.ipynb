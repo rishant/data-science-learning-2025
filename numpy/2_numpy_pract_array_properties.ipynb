{
 "cells": [
  {
   "cell_type": "code",
   "execution_count": null,
   "id": "68311cb9",
   "metadata": {},
   "outputs": [],
   "source": [
    "import numpy as np\n",
    "\n",
    "\n",
    "# Create a 1D array\n",
    "array_1d = np.array([1, 2, 3, 4, 5])\n",
    "# Create a 2D array\n",
    "array_2d = np.array([[1, 2, 3], [4, 5, 6]])\n",
    "# Create a 3D array\n",
    "array_3d = np.array([[[1, 2], [3, 4 ]], [[5, 6], [7, 8]]])  \n",
    "\n",
    "print('# Print the array contents')\n",
    "print(array_1d)\n",
    "print(array_2d)\n",
    "print(array_3d)\n"
   ]
  },
  {
   "cell_type": "code",
   "execution_count": null,
   "id": "7331eb8b",
   "metadata": {},
   "outputs": [],
   "source": [
    "print('# shape: Print the arrays shape')\n",
    "print(array_1d.shape)\n",
    "print(array_2d.shape)\n",
    "print(array_3d.shape)\n",
    "\n",
    "print('# size: Print the total number of elements in each array')\n",
    "print(array_1d.size)\n",
    "print(array_2d.size)\n",
    "print(array_3d.size)\n",
    "\n",
    "print('# ndim: Print the number of dimensions')\n",
    "print(array_1d.ndim)\n",
    "print(array_2d.ndim)  \n",
    "print(array_3d.ndim)\n"
   ]
  },
  {
   "cell_type": "code",
   "execution_count": null,
   "id": "fdb95a8e",
   "metadata": {},
   "outputs": [],
   "source": [
    "\n",
    "print('# itemsize: Print the item size in bytes')\n",
    "print(array_1d.itemsize)\n",
    "print(array_2d.itemsize)\n",
    "print(array_3d.itemsize)\n",
    "\n",
    "print('# nbytes: Print the total size in bytes')\n",
    "print(array_1d.nbytes)\n",
    "print(array_2d.nbytes)\n",
    "print(array_3d.nbytes)"
   ]
  },
  {
   "cell_type": "code",
   "execution_count": null,
   "id": "1f5ff65a",
   "metadata": {},
   "outputs": [],
   "source": [
    "\n",
    "print('# dtype: Print the data type of each array')\n",
    "print(array_1d.dtype)\n",
    "print(array_2d.dtype)\n",
    "print(array_3d.dtype)\n",
    "\n",
    "\n",
    "print('# astype: Convert data type of each array')\n",
    "array_1d_newtype = array_1d.astype(float)\n",
    "array_2d_newtype = array_2d.astype(float)\n",
    "array_3d_newtype = array_3d.astype(float)\n",
    "print(array_1d_newtype)\n",
    "print(array_2d_newtype)\n",
    "print(array_3d_newtype)\n",
    "print(array_1d_newtype.dtype)\n",
    "print(array_2d_newtype.dtype)\n",
    "print(array_3d_newtype.dtype)\n"
   ]
  }
 ],
 "metadata": {
  "kernelspec": {
   "display_name": "Python 3",
   "language": "python",
   "name": "python3"
  },
  "language_info": {
   "codemirror_mode": {
    "name": "ipython",
    "version": 3
   },
   "file_extension": ".py",
   "mimetype": "text/x-python",
   "name": "python",
   "nbconvert_exporter": "python",
   "pygments_lexer": "ipython3",
   "version": "3.12.2"
  }
 },
 "nbformat": 4,
 "nbformat_minor": 5
}
