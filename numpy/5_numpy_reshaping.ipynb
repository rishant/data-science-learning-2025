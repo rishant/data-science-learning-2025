{
 "cells": [
  {
   "cell_type": "markdown",
   "id": "99b57079",
   "metadata": {},
   "source": [
    "### Reshaping and Manuplating Array\n",
    "\n",
    "Make a view from 1D to 2D or 3D or n-dimantion array.\n",
    "\n",
    "1. Reshaping - It will return the `view` of existing data and it will not create any `Copy` of array element. Means it is kind of `Referencing`.\n",
    "\n",
    "2. Flattening - Multi-dimantion array to 1D array.\n",
    "```\n",
    "   .ravel() ->    Return view \n",
    "   .flatten() ->  Return Copy\n",
    "\n",
    "```"
   ]
  },
  {
   "cell_type": "code",
   "execution_count": null,
   "id": "2c80b688",
   "metadata": {},
   "outputs": [],
   "source": [
    "import numpy as np\n",
    "\n",
    "arr = np.array([1, 2, 3, 4, 5, 6 ,7 , 8, 9, 10])\n",
    "print(\"Original Array:\", arr)"
   ]
  },
  {
   "cell_type": "code",
   "execution_count": null,
   "id": "7d34853a",
   "metadata": {},
   "outputs": [],
   "source": [
    "# Reshaping\n",
    "\n",
    "reshaped_2d = arr.reshape(2, 5)  # Reshape to 2 rows and 5 columns\n",
    "print(\"Reshaped 2D Array:\\n\", reshaped_2d)\n",
    "reshaped_3d = arr.reshape(2, 5, 1)  # Reshape to 2 rows, 5 columns, and 1 depth\n",
    "print(\"Reshaped 3D Array:\\n\", reshaped_3d)\n"
   ]
  },
  {
   "cell_type": "code",
   "execution_count": null,
   "id": "50b35c48",
   "metadata": {},
   "outputs": [],
   "source": [
    "# Flatten the 2D array to 1D\n",
    "\n",
    "arr_2d = np.array([[1, 2, 3], [4, 5, 6], [7, 8, 9]])\n",
    "\n",
    "print(\"Flattened Array - ravel :\", arr_2d.ravel())\n",
    "print(\"Flattened Array - flatten :\", arr_2d.flatten())\n",
    "\n"
   ]
  }
 ],
 "metadata": {
  "kernelspec": {
   "display_name": "Python 3",
   "language": "python",
   "name": "python3"
  },
  "language_info": {
   "codemirror_mode": {
    "name": "ipython",
    "version": 3
   },
   "file_extension": ".py",
   "mimetype": "text/x-python",
   "name": "python",
   "nbconvert_exporter": "python",
   "pygments_lexer": "ipython3",
   "version": "3.12.2"
  }
 },
 "nbformat": 4,
 "nbformat_minor": 5
}
