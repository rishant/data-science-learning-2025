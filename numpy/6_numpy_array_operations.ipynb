{
 "cells": [
  {
   "cell_type": "markdown",
   "id": "99b57079",
   "metadata": {},
   "source": [
    "### Array Operation\n",
    "\n",
    "1. Insert\n",
    "2. append\n",
    "3. concatenate\n",
    "4. delete\n",
    "5. vstack - row wise\n",
    "6. hstack - column wise\n",
    "7. split  - equal parts split\n",
    "8. vsplit\n",
    "9. hsplit\n",
    "\n"
   ]
  },
  {
   "cell_type": "code",
   "execution_count": null,
   "id": "2c80b688",
   "metadata": {},
   "outputs": [],
   "source": [
    "import numpy as np\n",
    "\n",
    "arr = np.array([1, 2, 3, 4, 5, 6 ,7 , 8, 9, 10])\n",
    "print(\"Original Array:\", arr)\n",
    "\n",
    "arr_2d = np.array([[1, 2], [4, 5]])"
   ]
  },
  {
   "cell_type": "code",
   "execution_count": null,
   "id": "df120142",
   "metadata": {},
   "outputs": [],
   "source": [
    "# Inserting an element\n",
    "\n",
    "new_arr = np.insert(arr, 5, 11)  # Insert 11 at index 5\n",
    "print(\"insertion:\", new_arr)    \n",
    "print(\"insertion:\", arr)    \n",
    "\n",
    "new_arr_2d = np.insert(arr_2d, 1, [3, 6], axis=0)  # Insert a new row at index 1\n",
    "print(\"insertion:\\n\", new_arr_2d)\n",
    "print(\"insertion:\\n\", arr_2d)\n",
    "\n",
    "new_arr_2d = np.insert(arr_2d, 1, [3, 6], axis=1)\n",
    "print(\"insertion:\\n\", new_arr_2d)\n",
    "print(\"insertion:\\n\", arr_2d)\n",
    "\n",
    "\n",
    "new_arr_2d = np.insert(arr_2d, 1, [3, 6], axis=None)\n",
    "print(\"insertion:\\n\", new_arr_2d)\n",
    "print(\"insertion:\\n\", arr_2d)\n"
   ]
  },
  {
   "cell_type": "code",
   "execution_count": null,
   "id": "0322a00f",
   "metadata": {},
   "outputs": [],
   "source": [
    "# Appending an element\n",
    "\n",
    "new_arr = np.append(arr, 5) \n",
    "print(\"append:\", new_arr)    \n",
    "print(\"append:\", arr)    \n",
    "\n",
    "new_arr_2d = np.append(arr_2d, [[6, 7], [8, 9]], axis=0)\n",
    "print(\"append:\\n\", new_arr_2d)\n",
    "print(\"append:\\n\", arr_2d)\n",
    "\n",
    "new_arr_2d = np.append(arr_2d, [[6, 7], [8, 9]], axis=1)\n",
    "print(\"append:\\n\", new_arr_2d)\n",
    "print(\"append:\\n\", arr_2d)\n",
    "\n",
    "\n",
    "new_arr_2d = np.append(arr_2d, [3, 6])\n",
    "print(\"append:\\n\", new_arr_2d)\n",
    "print(\"append:\\n\", arr_2d)\n",
    "\n",
    "new_arr_2d = np.append(arr_2d, [[6, 7], [8, 9]], axis=None)\n",
    "print(\"append:\\n\", new_arr_2d)\n",
    "print(\"append:\\n\", arr_2d)"
   ]
  },
  {
   "cell_type": "code",
   "execution_count": null,
   "id": "d1d8eec5",
   "metadata": {},
   "outputs": [],
   "source": [
    "# concatenating arrays  \n",
    "\n",
    "arr1 = np.array([1, 2, 3])\n",
    "arr2 = np.array([4, 5,6])\n",
    "\n",
    "new_arr = np.concatenate((arr1, arr2))\n",
    "print(\"concatenating :\\n\", new_arr) \n",
    "\n",
    "\n",
    "arr1 = np.array([[1, 2, 3]])\n",
    "arr2 = np.array([[4, 5, 6]])\n",
    "\n",
    "new_arr = np.concatenate((arr1, arr2), axis=0)\n",
    "print(\"concatenating :\\n\", new_arr) \n",
    "\n",
    "new_arr = np.concatenate((arr1, arr2), axis=1)\n",
    "print(\"concatenating :\\n\", new_arr)\n"
   ]
  },
  {
   "cell_type": "code",
   "execution_count": null,
   "id": "cab39b90",
   "metadata": {},
   "outputs": [],
   "source": [
    "# deleting elements\n",
    "arr = np.array([1, 2, 3, 4, 5, 6 ,7 , 8, 9, 10])\n",
    "print(\"Original Array:\", arr)\n",
    "\n",
    "new_arr = np.delete(arr, 5)  # Delete element at index 5\n",
    "print(\"Array after deletion:\", new_arr)\n",
    "print(\"Array after deletion:\", arr)\n",
    "\n",
    "arr_2d = np.array([[1, 2], [4, 5]])\n",
    "\n",
    "new_arr_2d = np.delete(arr_2d, 1, axis=0)  # Delete row at index 1\n",
    "print(\"2D Array after deletion axis=0 :\\n\", new_arr_2d)\n",
    "print(\"2D Array after deletion axis=0 :\\n\", arr_2d)\n",
    "\n",
    "new_arr_2d = np.delete(arr_2d, 1, axis=1)  # Delete column at index 1\n",
    "print(\"2D Array after deletion axis=1 :\\n\", new_arr_2d)\n",
    "print(\"2D Array after deletion axis=1 :\\n\", arr_2d)"
   ]
  },
  {
   "cell_type": "code",
   "execution_count": null,
   "id": "4b71d10b",
   "metadata": {},
   "outputs": [],
   "source": [
    "# vstack \n",
    "arr1 = np.array([1, 2, 3])\n",
    "arr2 = np.array([4, 5, 6])  \n",
    "new_arr = np.vstack((arr1, arr2))\n",
    "print(\"Vertical Stack:\\n\", new_arr)\n",
    "\n",
    "# hstack\n",
    "arr1 = np.array([1, 2, 3])\n",
    "arr2 = np.array([4, 5, 6])    \n",
    "new_arr = np.hstack((arr1, arr2))\n",
    "print(\"Horizontal Stack:\\n\", new_arr)\n"
   ]
  }
 ],
 "metadata": {
  "kernelspec": {
   "display_name": "Python 3",
   "language": "python",
   "name": "python3"
  },
  "language_info": {
   "codemirror_mode": {
    "name": "ipython",
    "version": 3
   },
   "file_extension": ".py",
   "mimetype": "text/x-python",
   "name": "python",
   "nbconvert_exporter": "python",
   "pygments_lexer": "ipython3",
   "version": "3.12.2"
  }
 },
 "nbformat": 4,
 "nbformat_minor": 5
}
