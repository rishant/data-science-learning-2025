{
 "cells": [
  {
   "cell_type": "markdown",
   "id": "96b443f8",
   "metadata": {},
   "source": [
    "### Handle Mussing Values\n",
    "\n",
    "1. isnan - \n",
    "2. nan_to_num - \n",
    "3. isinf"
   ]
  },
  {
   "cell_type": "code",
   "execution_count": null,
   "id": "ef3eaad5",
   "metadata": {},
   "outputs": [],
   "source": [
    "import numpy as np\n",
    "\n",
    "arr = np.array([1, np.nan, 3, np.nan, 5])\n",
    "print(arr)\n",
    "print(np.isnan(arr))"
   ]
  },
  {
   "cell_type": "code",
   "execution_count": null,
   "id": "378a7910",
   "metadata": {},
   "outputs": [],
   "source": [
    "import numpy as np\n",
    "\n",
    "arr = np.array([1, np.nan, 3, np.nan, 5])\n",
    "print(arr)\n",
    "print(np.nan_to_num(arr, nan=0.0))\n",
    "print(np.nan_to_num(arr, nan=100))\n"
   ]
  },
  {
   "cell_type": "code",
   "execution_count": null,
   "id": "03e28651",
   "metadata": {},
   "outputs": [],
   "source": [
    "import numpy as np\n",
    "\n",
    "arr = np.array([1, np.inf, 3, -np.inf, 5])\n",
    "print(arr)\n",
    "print(np.isinf(arr))\n",
    "print(np.nan_to_num(arr, posinf=100, neginf=-100))\n"
   ]
  }
 ],
 "metadata": {
  "kernelspec": {
   "display_name": "Python 3",
   "language": "python",
   "name": "python3"
  },
  "language_info": {
   "codemirror_mode": {
    "name": "ipython",
    "version": 3
   },
   "file_extension": ".py",
   "mimetype": "text/x-python",
   "name": "python",
   "nbconvert_exporter": "python",
   "pygments_lexer": "ipython3",
   "version": "3.12.2"
  }
 },
 "nbformat": 4,
 "nbformat_minor": 5
}
