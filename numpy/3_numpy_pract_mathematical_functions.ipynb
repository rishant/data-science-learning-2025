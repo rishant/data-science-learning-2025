{
 "cells": [
  {
   "cell_type": "markdown",
   "id": "379ef7f2",
   "metadata": {},
   "source": [
    "🧮 NumPy – Built-in Mathematical Functions\n",
    "\n",
    "NumPy provides vectorized (fast) math functions that work on entire arrays."
   ]
  },
  {
   "cell_type": "code",
   "execution_count": null,
   "id": "afa04c93",
   "metadata": {},
   "outputs": [],
   "source": [
    "#🔹 1. Basic Arithmetic\n",
    "import numpy as np\n",
    "\n",
    "arr = np.array([1, 2, 3, 4])\n",
    "\n",
    "print(np.add(arr, 5))     # [ 6  7  8  9]\n",
    "print(np.subtract(arr, 2))# [-1  0  1  2]\n",
    "print(np.multiply(arr, 2))# [2 4 6 8]\n",
    "print(np.divide(arr, 2))  # [0.5 1.  1.5 2. ]\n",
    "print(np.power(arr, 3))   # [ 1  8 27 64]\n",
    "print(np.mod(arr, 2))     # [1 0 1 0]"
   ]
  },
  {
   "cell_type": "code",
   "execution_count": null,
   "id": "9a23d405",
   "metadata": {},
   "outputs": [],
   "source": [
    "#🔹 2. Trigonometric Functions\n",
    "angles = np.array([0, np.pi/2, np.pi])\n",
    "\n",
    "print(np.sin(angles))   # [0. 1. 0.]\n",
    "print(np.cos(angles))   # [ 1.  0. -1.]\n",
    "print(np.tan(angles))   # [0. 1. inf]\n",
    "print(np.arcsin([0, 1])) # [0. pi/2]\n",
    "print(np.degrees(np.pi)) # 180.0\n",
    "print(np.radians(180))   # 3.14159\n",
    "\n"
   ]
  },
  {
   "cell_type": "code",
   "execution_count": null,
   "id": "349b4381",
   "metadata": {},
   "outputs": [],
   "source": [
    "#🔹 3. Exponential & Logarithmic\n",
    "print(np.exp([1, 2]))     # [2.718 7.389]\n",
    "print(np.expm1(1))        # e^1 - 1 → 1.718\n",
    "print(np.log([1, np.e]))  # [0. 1.]\n",
    "print(np.log10([1, 100])) # [0. 2.]\n",
    "print(np.log2([1, 8]))    # [0. 3.]\n",
    "\n"
   ]
  },
  {
   "cell_type": "code",
   "execution_count": null,
   "id": "db89a0ec",
   "metadata": {},
   "outputs": [],
   "source": [
    "#🔹 4. Rounding & Related\n",
    "arr = np.array([1.2, 2.5, 3.7])\n",
    "\n",
    "print(np.round(arr))  # [1. 2. 4.]\n",
    "print(np.floor(arr))  # [1. 2. 3.]\n",
    "print(np.ceil(arr))   # [2. 3. 4.]\n",
    "print(np.trunc(arr))  # [1. 2. 3.]\n",
    "\n"
   ]
  },
  {
   "cell_type": "code",
   "execution_count": null,
   "id": "f353f37d",
   "metadata": {},
   "outputs": [],
   "source": [
    "#🔹 5. Aggregation Functions\n",
    "arr = np.array([10, 20, 30, 40])\n",
    "\n",
    "print(np.sum(arr))      # 100\n",
    "print(np.prod(arr))     # 240000\n",
    "print(np.mean(arr))     # 25.0\n",
    "print(np.median(arr))   # 25.0\n",
    "print(np.std(arr))      # 11.18\n",
    "print(np.var(arr))      # 125.0\n",
    "print(np.min(arr))      # 10\n",
    "print(np.max(arr))      # 40\n",
    "print(np.cumsum(arr))   # [ 10  30  60 100]\n",
    "print(np.cumprod(arr))  # [   10   200  6000 240000]\n",
    "\n"
   ]
  },
  {
   "cell_type": "code",
   "execution_count": null,
   "id": "68311cb9",
   "metadata": {},
   "outputs": [],
   "source": [
    "#🔹 6. Miscellaneous\n",
    "print(np.sqrt([4, 9, 16]))      # [2. 3. 4.]\n",
    "print(np.abs([-1, -2, 3]))      # [1 2 3]\n",
    "print(np.sign([-5, 0, 7]))      # [-1  0  1]"
   ]
  },
  {
   "cell_type": "markdown",
   "id": "569656cf",
   "metadata": {},
   "source": [
    "✅ Quick Recap Categories\n",
    "\n",
    "1. Arithmetic → add, subtract, multiply, divide, power, mod\n",
    "\n",
    "2. Trigonometric → sin, cos, tan, arcsin, arccos, arctan, degrees, radians\n",
    "\n",
    "3. Exponential & Log → exp, log, log10, log2, expm1\n",
    "\n",
    "4. Rounding → round, floor, ceil, trunc\n",
    "\n",
    "5. Aggregation → sum, prod, mean, median, std, var, min, max, cumsum, cumprod\n",
    "\n",
    "6. Misc → sqrt, abs, sign"
   ]
  }
 ],
 "metadata": {
  "kernelspec": {
   "display_name": "Python 3",
   "language": "python",
   "name": "python3"
  },
  "language_info": {
   "codemirror_mode": {
    "name": "ipython",
    "version": 3
   },
   "file_extension": ".py",
   "mimetype": "text/x-python",
   "name": "python",
   "nbconvert_exporter": "python",
   "pygments_lexer": "ipython3",
   "version": "3.12.2"
  }
 },
 "nbformat": 4,
 "nbformat_minor": 5
}
