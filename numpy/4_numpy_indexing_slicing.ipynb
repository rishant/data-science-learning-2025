{
 "cells": [
  {
   "cell_type": "markdown",
   "id": "99b57079",
   "metadata": {},
   "source": [
    "### Indexing and Slicing\n",
    "\n",
    "1. Indexing\n",
    "2. Slicing\n",
    "3. Fancy indexing\n",
    "4. Boolean Masking\n"
   ]
  },
  {
   "cell_type": "code",
   "execution_count": null,
   "id": "2c80b688",
   "metadata": {},
   "outputs": [],
   "source": [
    "import numpy as np\n",
    "\n",
    "# arr[start: stop: step]\n",
    "\n",
    "arr = np.array([1, 2, 3, 4, 5, 6 ,7 , 8, 9, 10])\n",
    "print(\"Original Array:\", arr)"
   ]
  },
  {
   "cell_type": "code",
   "execution_count": null,
   "id": "b2fc6d6c",
   "metadata": {},
   "outputs": [],
   "source": [
    "\n",
    "# Indexing\n",
    "\n",
    "print(\"Element at index 0:\", arr[0])  # First element   \n",
    "print(\"Element at index 5:\", arr[5])  # Sixth element\n",
    "print(\"Element at index -1:\", arr[-1])  # Last element\n"
   ]
  },
  {
   "cell_type": "code",
   "execution_count": null,
   "id": "03d112e4",
   "metadata": {},
   "outputs": [],
   "source": [
    "# Slicing\n",
    "\n",
    "print(\"Elements from index 2 to 5:\", arr[2:6])  # Elements from index 2 to 5\n",
    "print(\"Elements from index 0 to 4:\", arr[:5])  # First five elements\n",
    "print(\"Elements from index 5 to end:\", arr[5:])  # Elements from index 5 to the end\n",
    "print(\"Elements from index 0 to end with step 2:\", arr[::2])  # Every second element from the start\n",
    "print(\"Elements from index 1 to end with step 3:\", arr[1::3])  # Every third element starting from index 1\n"
   ]
  },
  {
   "cell_type": "code",
   "execution_count": null,
   "id": "2917643e",
   "metadata": {},
   "outputs": [],
   "source": [
    "\n",
    "# Fancy Indexing\n",
    "#  - Accessing multiple elements at once based on a list of indices.\n",
    "fancy_indices = [0, 2, 4, 6]\n",
    "print(\"Fancy indexing with indices [0, 2, 4, 6]:\", arr[fancy_indices])  # Elements at indices 0, 2, 4, and 6\n"
   ]
  },
  {
   "cell_type": "code",
   "execution_count": null,
   "id": "49d92939",
   "metadata": {},
   "outputs": [],
   "source": [
    "## Filtering\n",
    " \n",
    "# Boolean Masks\n",
    "mask = arr > 5\n",
    "print(\"Boolean mask for elements greater than 5:\", mask)  # Boolean mask\n",
    "print(\"Elements greater than 5:\", arr[mask])  # Elements where the mask is True\n",
    "\n",
    "# Boolean Masking with a condition\n",
    "mask_condition = (arr > 3) & (arr < 8)\n",
    "print(\"Boolean mask for elements greater than 3 and less than 8:\", mask_condition)  # Boolean mask\n",
    "print(\"Elements greater than 3 and less than 8:\", arr[mask_condition])\n"
   ]
  }
 ],
 "metadata": {
  "kernelspec": {
   "display_name": "Python 3",
   "language": "python",
   "name": "python3"
  },
  "language_info": {
   "codemirror_mode": {
    "name": "ipython",
    "version": 3
   },
   "file_extension": ".py",
   "mimetype": "text/x-python",
   "name": "python",
   "nbconvert_exporter": "python",
   "pygments_lexer": "ipython3",
   "version": "3.12.2"
  }
 },
 "nbformat": 4,
 "nbformat_minor": 5
}
