{
 "cells": [
  {
   "cell_type": "markdown",
   "id": "1a58b72b",
   "metadata": {},
   "source": [
    "### Array Broadcasting\n",
    "\n"
   ]
  },
  {
   "cell_type": "code",
   "execution_count": null,
   "id": "5f6213c9",
   "metadata": {},
   "outputs": [],
   "source": [
    "import numpy as np\n",
    "\n",
    "# Broadcasting in NumPy allows for arithmetic operations between arrays of different shapes.\n",
    "# It automatically expands the smaller array to match the shape of the larger one, enabling element-wise operations without the need for explicit replication of data.\n",
    "\n",
    "\n",
    "# Example of broadcasting\n",
    "arr1 = np.array([[1, 2, 3], [4, 5, 6]])\n",
    "arr2 = np.array([10, 20, 30])\n",
    "result = arr1 + arr2  # Broadcasting arr2 to match the shape of arr1\n",
    "print(\"Result of broadcasting:\\n\", result)\n",
    "\n",
    "# Broadcasting with different shapes\n",
    "arr3 = np.array([[1], [2], [3]])\n",
    "arr4 = np.array([10, 20, 30])\n",
    "result2 = arr3 + arr4  # Broadcasting arr4 to match the shape of arr3\n",
    "print(\"Result of broadcasting with different shapes:\\n\", result2)\n",
    "\n",
    "# Broadcasting with 3D arrays\n",
    "arr5 = np.array([[[1, 2], [3, 4]], [[5, 6], [7, 8]]])\n",
    "arr6 = np.array([[10, 20], [30, 40]])   \n",
    "result3 = arr5 + arr6  # Broadcasting arr6 to match the shape of arr5\n",
    "print(\"Result of broadcasting with 3D arrays:\\n\", result3)\n",
    "\n",
    "# Broadcasting with scalar values\n",
    "scalar = 5\n",
    "result4 = arr1 + scalar  # Broadcasting scalar to match the shape of arr1\n",
    "print(\"Result of broadcasting with scalar:\\n\", result4) \n",
    "\n"
   ]
  },
  {
   "cell_type": "code",
   "execution_count": null,
   "id": "9bd20db2",
   "metadata": {},
   "outputs": [],
   "source": []
  }
 ],
 "metadata": {
  "kernelspec": {
   "display_name": "Python 3",
   "language": "python",
   "name": "python3"
  },
  "language_info": {
   "codemirror_mode": {
    "name": "ipython",
    "version": 3
   },
   "file_extension": ".py",
   "mimetype": "text/x-python",
   "name": "python",
   "nbconvert_exporter": "python",
   "pygments_lexer": "ipython3",
   "version": "3.12.2"
  }
 },
 "nbformat": 4,
 "nbformat_minor": 5
}
