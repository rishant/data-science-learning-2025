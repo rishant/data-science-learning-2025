{
 "cells": [
  {
   "cell_type": "markdown",
   "id": "eccda318",
   "metadata": {},
   "source": [
    "## 1. Introduction to NumPy"
   ]
  },
  {
   "cell_type": "code",
   "execution_count": null,
   "id": "c393e98f",
   "metadata": {},
   "outputs": [],
   "source": [
    "import numpy as np\n",
    "print(np.__version__)\n"
   ]
  },
  {
   "cell_type": "markdown",
   "id": "a21ee695",
   "metadata": {},
   "source": [
    "## 2. NumPy Array Creation"
   ]
  },
  {
   "cell_type": "code",
   "execution_count": null,
   "id": "d8bc0950",
   "metadata": {},
   "outputs": [],
   "source": [
    "# a = np.array([1, 2, 3])\n",
    "# b = np.zeros((2, 3))\n",
    "# c = np.ones(5)\n",
    "# d = np.arange(0, 10, 2)\n",
    "# e = np.linspace(0, 1, 5)\n",
    "# print(a, b, c, d, e)\n",
    "\n",
    "\n",
    "# Create a 1D array\n",
    "array_1d = np.array([1, 2, 3, 4, 5])\n",
    "# Create a 2D array\n",
    "array_2d = np.array([[1, 2, 3], [4, 5, 6]])\n",
    "# Create a 3D array\n",
    "array_3d = np.array([[[1, 2], [3, 4 ]], [[5, 6], [7, 8]]])  \n",
    "\n",
    "# Print the arrays\n",
    "print(\"1D Array:\", array_1d)\n",
    "print(\"2D Array:\\n\", array_2d)\n",
    "print(\"3D Array:\\n\", array_3d)\n",
    "\n",
    "\n",
    "# Create an array of zeros\n",
    "zeros_array = np.zeros((2, 3))  \n",
    "# Create an array of ones\n",
    "ones_array = np.ones((3, 2))\n",
    "# Create an empty array\n",
    "empty_array = np.empty((2, 2))\n",
    "# Print the special arrays\n",
    "print(\"Zeros Array:\\n\", zeros_array)\n",
    "print(\"Ones Array:\\n\", ones_array)\n",
    "print(\"Empty Array:\\n\", empty_array)\n",
    "\n",
    "\n",
    "# Create an array with a range of values\n",
    "range_array = np.arange(10)  # Array with values from 0 to 9\n",
    "# Create an array with a specified step\n",
    "step_array = np.arange(0, 10, 2)  # Array with values from 0 to 8 with a step of 2\n",
    "# Print the range arrays\n",
    "print(\"Range Array:\", range_array)\n",
    "print(\"Step Array:\", step_array)\n",
    "\n",
    "\n",
    "# Create an array with evenly spaced values\n",
    "linspace_array = np.linspace(0, 1, 5)  # 5 values from 0 to 1\n",
    "# Create a 2D array with evenly spaced values\n",
    "linspace_2d_array = np.linspace(0, 1, 6).reshape(2, 3)  # 2 rows and 3 columns\n",
    "# Print the linspace arrays\n",
    "print(\"Linspace Array:\", linspace_array)\n",
    "print(\"Linspace 2D Array:\\n\", linspace_2d_array)\n",
    "\n",
    "\n",
    "# Create a random array\n",
    "random_array = np.random.rand(3, 3)  # 3x3 array\n",
    "# Create a random integer array\n",
    "random_int_array = np.random.randint(0, 10, (2, 3))\n",
    "# Print the random arrays\n",
    "print(\"Random Array:\\n\", random_array)\n",
    "print(\"Random Integer Array:\\n\", random_int_array)\n",
    "\n",
    "\n",
    "# Create an identity matrix\n",
    "identity_matrix = np.eye(3)  # 3x3 identity matrix  \n",
    "# Create a diagonal matrix\n",
    "diagonal_matrix = np.diag([1, 2, 3])  # Diagonal matrix with specified diagonal values\n",
    "# Print the special matrices\n",
    "print(\"Identity Matrix:\\n\", identity_matrix)\n",
    "print(\"Diagonal Matrix:\\n\", diagonal_matrix)\n",
    "\n",
    "\n"
   ]
  },
  {
   "cell_type": "markdown",
   "id": "49065601",
   "metadata": {},
   "source": [
    "## 3. Array Indexing and Slicing"
   ]
  },
  {
   "cell_type": "code",
   "execution_count": null,
   "id": "c4f1667e",
   "metadata": {},
   "outputs": [],
   "source": [
    "arr = np.array([10, 20, 30, 40, 50])\n",
    "print(arr[1])\n",
    "print(arr[1:4])\n",
    "arr2d = np.array([[1, 2], [3, 4]])\n",
    "print(arr2d[0, 1])\n"
   ]
  },
  {
   "cell_type": "markdown",
   "id": "3f086760",
   "metadata": {},
   "source": [
    "## 4. Array Shape and Reshape"
   ]
  },
  {
   "cell_type": "code",
   "execution_count": null,
   "id": "87e6eb4e",
   "metadata": {},
   "outputs": [],
   "source": [
    "# arr = np.arange(6)\n",
    "# print(arr.shape)\n",
    "# arr2d = arr.reshape((2, 3))\n",
    "# print(arr2d)\n",
    "\n",
    "# Create a 1D array with a specified shape\n",
    "reshaped_array = np.array([1, 2, 3, 4, 5]).reshape((5, 1))  # Reshape to a column vector\n",
    "# Create a 2D array with a specified shape  \n",
    "reshaped_2d_array = np.array([[1, 2], [3, 4], [5, 6]]).reshape((2, 3))  # Reshape to 2 rows and 3 columns\n",
    "# Print the reshaped arrays\n",
    "print(\"Reshaped Array:\\n\", reshaped_array)\n",
    "print(\"Reshaped 2D Array:\\n\", reshaped_2d_array)\n",
    "# Create a 1D array with a specified shape\n",
    "reshaped_array_1d = np.array([1, 2, 3, 4, 5]).reshape((5,))  # Reshape to a 1D array\n",
    "# Create a 2D array with a specified shape  \n",
    "reshaped_2d_array_2 = np.array([[1, 2], [3, 4], [5, 6]]).reshape((3, 2))  # Reshape to 3 rows and 2 columns\n",
    "# Print the reshaped arrays\n",
    "print(\"Reshaped 1D Array:\", reshaped_array_1d)\n",
    "print(\"Reshaped 2D Array 2:\\n\", reshaped_2d_array_2)\n"
   ]
  },
  {
   "cell_type": "markdown",
   "id": "0e440aa0",
   "metadata": {},
   "source": [
    "## 5. Array Data Types"
   ]
  },
  {
   "cell_type": "code",
   "execution_count": null,
   "id": "b3350cff",
   "metadata": {},
   "outputs": [],
   "source": [
    "# arr = np.array([1, 2, 3], dtype=np.float32)\n",
    "# print(arr.dtype)\n",
    "\n",
    "# Create a 1D array with a specified data type\n",
    "typed_array = np.array([1, 2, 3], dtype=np.float32)\n",
    "# Create a 2D array with a specified data type\n",
    "typed_2d_array = np.array([[1, 2], [3, 4]], dtype=np.int32)\n",
    "# Print the typed arrays\n",
    "print(\"Typed Array:\", typed_array)\n",
    "print(\"Typed 2D Array:\\n\", typed_2d_array)\n"
   ]
  },
  {
   "cell_type": "markdown",
   "id": "7a3e0aa4",
   "metadata": {},
   "source": [
    "## 6. Array Operations"
   ]
  },
  {
   "cell_type": "code",
   "execution_count": null,
   "id": "7f6ce44b",
   "metadata": {},
   "outputs": [],
   "source": [
    "a = np.array([1, 2, 3])\n",
    "b = np.array([4, 5, 6])\n",
    "print(a + b)\n",
    "print(a * b)\n",
    "print(a > 2)\n"
   ]
  },
  {
   "cell_type": "markdown",
   "id": "29e94230",
   "metadata": {},
   "source": [
    "## 7. Universal Functions (ufuncs)"
   ]
  },
  {
   "cell_type": "code",
   "execution_count": null,
   "id": "0b45b611",
   "metadata": {},
   "outputs": [],
   "source": [
    "arr = np.array([1, 4, 9])\n",
    "print(np.sqrt(arr))\n",
    "print(np.exp(arr))\n"
   ]
  },
  {
   "cell_type": "markdown",
   "id": "d516fa7b",
   "metadata": {},
   "source": [
    "## 8. Aggregation Functions"
   ]
  },
  {
   "cell_type": "code",
   "execution_count": null,
   "id": "583e5d10",
   "metadata": {},
   "outputs": [],
   "source": [
    "arr = np.array([1, 2, 3, 4])\n",
    "print(arr.sum())\n",
    "print(arr.mean())\n",
    "print(arr.std())\n"
   ]
  },
  {
   "cell_type": "markdown",
   "id": "bbbbc626",
   "metadata": {},
   "source": [
    "## 9. Broadcasting"
   ]
  },
  {
   "cell_type": "code",
   "execution_count": null,
   "id": "1498386b",
   "metadata": {},
   "outputs": [],
   "source": [
    "a = np.array([1, 2, 3])\n",
    "b = np.array([[10], [20], [30]])\n",
    "print(a + b)\n"
   ]
  },
  {
   "cell_type": "markdown",
   "id": "b94b7a01",
   "metadata": {},
   "source": [
    "## 10. Random Module"
   ]
  },
  {
   "cell_type": "code",
   "execution_count": null,
   "id": "272095b5",
   "metadata": {},
   "outputs": [],
   "source": [
    "rand_arr = np.random.rand(2, 3)\n",
    "rand_int = np.random.randint(0, 10, size=(3, 3))\n",
    "print(rand_arr)\n",
    "print(rand_int)\n"
   ]
  },
  {
   "cell_type": "markdown",
   "id": "e50892d5",
   "metadata": {},
   "source": [
    "## 11. Sorting and Searching"
   ]
  },
  {
   "cell_type": "code",
   "execution_count": null,
   "id": "a8a91e77",
   "metadata": {},
   "outputs": [],
   "source": [
    "arr = np.array([3, 1, 2])\n",
    "print(np.sort(arr))\n",
    "print(np.where(arr == 2))\n"
   ]
  },
  {
   "cell_type": "markdown",
   "id": "014b1d71",
   "metadata": {},
   "source": [
    "## 12. Copy vs View"
   ]
  },
  {
   "cell_type": "code",
   "execution_count": null,
   "id": "7750916e",
   "metadata": {},
   "outputs": [],
   "source": [
    "arr = np.array([1, 2, 3])\n",
    "view = arr.view()\n",
    "copy = arr.copy()\n",
    "arr[0] = 99\n",
    "print(view)\n",
    "print(copy)\n"
   ]
  },
  {
   "cell_type": "markdown",
   "id": "bec87272",
   "metadata": {},
   "source": [
    "## 13. Structured Arrays"
   ]
  },
  {
   "cell_type": "code",
   "execution_count": null,
   "id": "782dec10",
   "metadata": {},
   "outputs": [],
   "source": [
    "dt = np.dtype([('name', 'S10'), ('age', 'i4')])\n",
    "arr = np.array([('Alice', 25), ('Bob', 30)], dtype=dt)\n",
    "print(arr['name'])\n"
   ]
  },
  {
   "cell_type": "markdown",
   "id": "9dd48d65",
   "metadata": {},
   "source": [
    "## 14. Saving and Loading Arrays"
   ]
  },
  {
   "cell_type": "code",
   "execution_count": null,
   "id": "b6665253",
   "metadata": {},
   "outputs": [],
   "source": [
    "arr = np.array([1, 2, 3])\n",
    "np.save('my_array.npy', arr)\n",
    "loaded = np.load('my_array.npy')\n",
    "print(loaded)\n"
   ]
  },
  {
   "cell_type": "markdown",
   "id": "7860bf68",
   "metadata": {},
   "source": [
    "## 15. Linear Algebra"
   ]
  },
  {
   "cell_type": "code",
   "execution_count": null,
   "id": "c69e5815",
   "metadata": {},
   "outputs": [],
   "source": [
    "a = np.array([[1, 2], [3, 4]])\n",
    "b = np.array([[5, 6], [7, 8]])\n",
    "print(np.dot(a, b))\n",
    "print(np.linalg.inv(a))\n"
   ]
  },
  {
   "cell_type": "markdown",
   "id": "ea5c5c8d",
   "metadata": {},
   "source": [
    "## 16. Masking and Filtering"
   ]
  },
  {
   "cell_type": "code",
   "execution_count": null,
   "id": "b5d91445",
   "metadata": {},
   "outputs": [],
   "source": [
    "arr = np.array([1, 2, 3, 4, 5])\n",
    "mask = arr > 2\n",
    "print(arr[mask])\n"
   ]
  },
  {
   "cell_type": "markdown",
   "id": "7c3d9b3c",
   "metadata": {},
   "source": [
    "## 17. Handling Missing Data"
   ]
  },
  {
   "cell_type": "code",
   "execution_count": null,
   "id": "a0091dd1",
   "metadata": {},
   "outputs": [],
   "source": [
    "arr = np.array([1, np.nan, 3])\n",
    "print(np.isnan(arr))\n",
    "print(np.nanmean(arr))\n"
   ]
  },
  {
   "cell_type": "markdown",
   "id": "118074c0",
   "metadata": {},
   "source": [
    "## 18. Performance Tips"
   ]
  },
  {
   "cell_type": "code",
   "execution_count": null,
   "id": "e0a77dad",
   "metadata": {},
   "outputs": [],
   "source": [
    "arr = np.arange(1e6)\n",
    "# %timeit arr + 1   # Uncomment in Jupyter to test performance\n"
   ]
  },
  {
   "cell_type": "markdown",
   "id": "2fc1eb82",
   "metadata": {},
   "source": [
    "## 19. Integration with Other Libraries"
   ]
  },
  {
   "cell_type": "code",
   "execution_count": null,
   "id": "b3d63cb5",
   "metadata": {},
   "outputs": [],
   "source": [
    "import pandas as pd\n",
    "df = pd.DataFrame(np.random.rand(3, 3), columns=['A', 'B', 'C'])\n",
    "print(df)\n"
   ]
  },
  {
   "cell_type": "markdown",
   "id": "525723f5",
   "metadata": {},
   "source": [
    "## 20. Array Attributes"
   ]
  },
  {
   "cell_type": "code",
   "execution_count": null,
   "id": "e1f7289d",
   "metadata": {},
   "outputs": [],
   "source": [
    "arr = np.array([[1,2,3],[4,5,6]])\n",
    "print(arr.ndim)\n",
    "print(arr.shape)\n",
    "print(arr.size)\n",
    "print(arr.itemsize)\n",
    "print(arr.nbytes)\n"
   ]
  },
  {
   "cell_type": "markdown",
   "id": "dd2056c6",
   "metadata": {},
   "source": [
    "## 21. Stacking and Splitting Arrays"
   ]
  },
  {
   "cell_type": "code",
   "execution_count": null,
   "id": "b0a2dff8",
   "metadata": {},
   "outputs": [],
   "source": [
    "a = np.array([1,2,3])\n",
    "b = np.array([4,5,6])\n",
    "print(np.hstack((a,b)))\n",
    "print(np.vstack((a,b)))\n",
    "arr = np.arange(10)\n",
    "print(np.split(arr, 2))\n"
   ]
  },
  {
   "cell_type": "markdown",
   "id": "bffa69d6",
   "metadata": {},
   "source": [
    "## 22. Fancy Indexing"
   ]
  },
  {
   "cell_type": "code",
   "execution_count": null,
   "id": "9afc3430",
   "metadata": {},
   "outputs": [],
   "source": [
    "arr = np.arange(10)\n",
    "print(arr[[1,3,5]])\n",
    "print(arr[arr % 2 == 0])\n"
   ]
  },
  {
   "cell_type": "markdown",
   "id": "d8df0f47",
   "metadata": {},
   "source": [
    "## 23. Iterating Arrays"
   ]
  },
  {
   "cell_type": "code",
   "execution_count": null,
   "id": "7dcd4b58",
   "metadata": {},
   "outputs": [],
   "source": [
    "arr = np.array([[1,2],[3,4]])\n",
    "for idx, x in np.ndenumerate(arr):\n",
    "    print(idx, x)\n"
   ]
  },
  {
   "cell_type": "markdown",
   "id": "3316f3cf",
   "metadata": {},
   "source": [
    "## 24. Memory Layout"
   ]
  },
  {
   "cell_type": "code",
   "execution_count": null,
   "id": "652220e9",
   "metadata": {},
   "outputs": [],
   "source": [
    "arr_c = np.array([[1,2,3],[4,5,6]], order='C')\n",
    "arr_f = np.array([[1,2,3],[4,5,6]], order='F')\n",
    "print(arr_c.flags)\n",
    "print(arr_f.flags)\n"
   ]
  },
  {
   "cell_type": "markdown",
   "id": "4168fb7f",
   "metadata": {},
   "source": [
    "## 25. Vectorization with np.vectorize\n",
    "\n",
    "\n",
    "    🔹 Why?\n",
    "\n",
    "    Vectorization in NumPy means applying operations on entire arrays (vectors, matrices, tensors) at once, instead of looping element by element in Python.\n",
    "\n",
    "    NumPy uses optimized C loops under the hood → much faster than Python for loops.\n",
    "\n",
    "    🔹 What your code shows:\n",
    "\n",
    "    Element-wise arithmetic (+, -, *, /, **) → ✅ vectorized\n",
    "\n",
    "    Comparison operations (>, ==) → ✅ vectorized\n",
    "\n",
    "    Scalar operations (adding/multiplying a number to whole array) → ✅ vectorized\n",
    "\n",
    "    Universal functions (ufuncs) (sqrt, exp, sin) → ✅ vectorized\n",
    "\n",
    "    Broadcasting (operating between arrays of different shapes) → ✅ vectorized\n",
    "\n",
    "    Logical operations (logical_and, logical_or) → ✅ vectorized\n",
    "\n",
    "    Multi-dimensional array ops (1D, 2D, 3D) → ✅ vectorized"
   ]
  },
  {
   "cell_type": "code",
   "execution_count": null,
   "id": "f4918b70",
   "metadata": {},
   "outputs": [],
   "source": [
    "# def myfunc(x): return x**2 + 1\n",
    "# vec_func = np.vectorize(myfunc)\n",
    "# print(vec_func([1,2,3,4]))\n",
    "\n",
    "\n",
    "# Numpy Array Vectorization Examples\n",
    "\n",
    "import numpy as np\n",
    "\n",
    "# 1. Element-wise addition\n",
    "a = np.array([1, 2, 3, 4])\n",
    "b = np.array([10, 20, 30, 40])\n",
    "print(\"Addition:\", a + b)\n",
    "\n",
    "# 2. Element-wise subtraction\n",
    "print(\"Subtraction:\", b - a)\n",
    "\n",
    "# 3. Element-wise multiplication\n",
    "print(\"Multiplication:\", a * b)\n",
    "\n",
    "# 4. Element-wise division\n",
    "print(\"Division:\", b / a)\n",
    "\n",
    "# 5. Element-wise power\n",
    "print(\"Power:\", a ** 2)\n",
    "\n",
    "# 6. Element-wise comparison\n",
    "print(\"Greater than 2:\", a > 2)\n",
    "print(\"Equal to 3:\", a == 3)\n",
    "\n",
    "# 7. Scalar operations\n",
    "print(\"Add scalar:\", a + 5)\n",
    "print(\"Multiply scalar:\", a * 2)\n",
    "\n",
    "# 8. Universal functions (ufuncs)\n",
    "print(\"Square root:\", np.sqrt(a))\n",
    "print(\"Exponential:\", np.exp(a))\n",
    "print(\"Sine:\", np.sin(a))\n",
    "\n",
    "# 9. Broadcasting with different shapes\n",
    "c = np.array([[1, 2, 3], [4, 5, 6]])\n",
    "d = np.array([10, 20, 30])\n",
    "print(\"Broadcasting addition:\\n\", c + d)\n",
    "\n",
    "# 10. Logical operations\n",
    "print(\"Logical AND:\", np.logical_and(a > 1, a < 4))\n",
    "print(\"Logical OR:\", np.logical_or(a == 2, a == 4))\n",
    "\n",
    "# Create a 1D array\n",
    "array_1d = np.array([1, 2, 3, 4, 5])+2\n",
    "# Create a 2D array\n",
    "array_2d = np.array([[1, 2, 3], [4, 5, 6]])*2\n",
    "# Create a 3D array\n",
    "array_3d = np.array([[[1, 2], [3, 4 ]], [[5, 6], [7, 8]]])/2  \n",
    "# Print the arrays\n",
    "print(\"1D Array add each item with 2:\", array_1d)\n",
    "print(\"2D Array multiply each item with 2:\\n\", array_2d)\n",
    "print(\"3D Array divide each item with 2:\\n\", array_3d)"
   ]
  },
  {
   "cell_type": "markdown",
   "id": "b77a4baf",
   "metadata": {},
   "source": [
    "## 26. Set Operations"
   ]
  },
  {
   "cell_type": "code",
   "execution_count": null,
   "id": "82974cfc",
   "metadata": {},
   "outputs": [],
   "source": [
    "a = np.array([1,2,3,4])\n",
    "b = np.array([3,4,5,6])\n",
    "print(np.union1d(a,b))\n",
    "print(np.intersect1d(a,b))\n",
    "print(np.setdiff1d(a,b))\n"
   ]
  },
  {
   "cell_type": "markdown",
   "id": "3ea279a0",
   "metadata": {},
   "source": [
    "## 27. Mathematical & Trigonometric Functions"
   ]
  },
  {
   "cell_type": "code",
   "execution_count": null,
   "id": "8f719958",
   "metadata": {},
   "outputs": [],
   "source": [
    "arr = np.array([0, np.pi/2, np.pi])\n",
    "print(np.sin(arr))\n",
    "print(np.cos(arr))\n",
    "print(np.log([1, np.e, np.e**2]))\n"
   ]
  },
  {
   "cell_type": "markdown",
   "id": "ecd92616",
   "metadata": {},
   "source": [
    "## 28. Cumulative Functions"
   ]
  },
  {
   "cell_type": "code",
   "execution_count": null,
   "id": "b572dedd",
   "metadata": {},
   "outputs": [],
   "source": [
    "arr = np.array([1,2,3,4])\n",
    "print(np.cumsum(arr))\n",
    "print(np.cumprod(arr))\n"
   ]
  },
  {
   "cell_type": "markdown",
   "id": "d719acdf",
   "metadata": {},
   "source": [
    "## 29. Tile and Repeat"
   ]
  },
  {
   "cell_type": "code",
   "execution_count": null,
   "id": "7cda64b7",
   "metadata": {},
   "outputs": [],
   "source": [
    "a = np.array([1,2,3])\n",
    "print(np.tile(a, 2))\n",
    "print(np.repeat(a, 3))\n"
   ]
  },
  {
   "cell_type": "markdown",
   "id": "d853f9a1",
   "metadata": {},
   "source": [
    "## 30. Advanced Linear Algebra"
   ]
  },
  {
   "cell_type": "code",
   "execution_count": null,
   "id": "7c0db222",
   "metadata": {},
   "outputs": [],
   "source": [
    "A = np.array([[2,1],[1,2]])\n",
    "eigvals, eigvecs = np.linalg.eig(A)\n",
    "print(\"Eigenvalues:\", eigvals)\n",
    "print(\"Eigenvectors:\\n\", eigvecs)\n",
    "U, S, Vt = np.linalg.svd(A)\n",
    "print(\"U:\\n\", U)\n",
    "print(\"S:\", S)\n",
    "print(\"Vt:\\n\", Vt)\n"
   ]
  },
  {
   "cell_type": "markdown",
   "id": "6d1e4429",
   "metadata": {},
   "source": [
    "## 31. Fast Fourier Transform (FFT)"
   ]
  },
  {
   "cell_type": "code",
   "execution_count": null,
   "id": "dd21a2dd",
   "metadata": {},
   "outputs": [],
   "source": [
    "arr = np.array([1,2,3,4])\n",
    "print(np.fft.fft(arr))\n"
   ]
  },
  {
   "cell_type": "markdown",
   "id": "211f0828",
   "metadata": {},
   "source": [
    "## 32. Polynomial Handling"
   ]
  },
  {
   "cell_type": "code",
   "execution_count": null,
   "id": "626ca807",
   "metadata": {},
   "outputs": [],
   "source": [
    "p = np.poly1d([1,2,1])  # x^2 + 2x + 1\n",
    "print(p(2))\n",
    "print(p.r)\n",
    "print(np.polyder(p))\n"
   ]
  }
 ],
 "metadata": {
  "kernelspec": {
   "display_name": "Python 3",
   "language": "python",
   "name": "python3"
  },
  "language_info": {
   "codemirror_mode": {
    "name": "ipython",
    "version": 3
   },
   "file_extension": ".py",
   "mimetype": "text/x-python",
   "name": "python",
   "nbconvert_exporter": "python",
   "pygments_lexer": "ipython3",
   "version": "3.12.2"
  }
 },
 "nbformat": 4,
 "nbformat_minor": 5
}
